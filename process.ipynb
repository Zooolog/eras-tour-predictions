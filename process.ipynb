{
 "cells": [
  {
   "cell_type": "code",
   "execution_count": null,
   "metadata": {},
   "outputs": [],
   "source": [
    "import pandas as pd"
   ]
  },
  {
   "cell_type": "code",
   "execution_count": null,
   "metadata": {},
   "outputs": [],
   "source": [
    "tour_1 = pd.read_csv(\"clean/tour_1.csv\", dtype={\"Attendance\": \"Int64\", \"City\": \"string\", \"Country\": \"string\"})[[\"City\", \"Country\", \"Attendance\"]]\n",
    "tour_2 = pd.read_csv(\"clean/tour_2.csv\", dtype={\"Attendance\": \"Int64\", \"City\": \"string\", \"Country\": \"string\"})[[\"City\", \"Country\", \"Attendance\"]]\n",
    "tour_3 = pd.read_csv(\"clean/tour_3.csv\", dtype={\"Attendance\": \"Int64\", \"City\": \"string\", \"Country\": \"string\"})[[\"City\", \"Country\", \"Attendance\"]]\n",
    "tour_4 = pd.read_csv(\"clean/tour_4.csv\", dtype={\"Attendance\": \"Int64\", \"City\": \"string\", \"Country\": \"string\"})[[\"City\", \"Country\", \"Attendance\"]]\n",
    "tour_5 = pd.read_csv(\"clean/tour_5.csv\", dtype={\"Attendance\": \"Int64\", \"City\": \"string\", \"Country\": \"string\"})[[\"City\", \"Country\", \"Attendance\"]]\n",
    "tour_6 = pd.read_csv(\"clean/tour_6.csv\", dtype={\"Attendance\": \"Int64\", \"City\": \"string\", \"Country\": \"string\"})[[\"City\", \"Country\", \"Attendance\"]]\n",
    "\n",
    "print(tour_1.dtypes)\n",
    "print(tour_2.dtypes)\n",
    "print(tour_3.dtypes)\n",
    "print(tour_4.dtypes)\n",
    "print(tour_5.dtypes)\n",
    "print(tour_6.dtypes)\n"
   ]
  },
  {
   "cell_type": "code",
   "execution_count": null,
   "metadata": {},
   "outputs": [],
   "source": [
    "# add estimated attendance to tour 6\n",
    "\n",
    "tour_6_estimates = pd.read_csv(\"clean/tour_6_estimates.csv\")\n",
    "tour_6_estimates[\"Attendance\"] = tour_6_estimates[\"Attendance\"].fillna(50_000)\n",
    "\n",
    "tour_6 = tour_6.drop(columns=[\"Attendance\"])\n",
    "tour_6[\"Attendance\"] = pd.merge(tour_6, tour_6_estimates, on=[\"City\", \"Country\"], how=\"left\")[\"Attendance\"]\n",
    "\n",
    "tour_6"
   ]
  },
  {
   "cell_type": "code",
   "execution_count": null,
   "metadata": {},
   "outputs": [],
   "source": [
    "# fill values from tour 1 with its mean, because the values are so small\n",
    "print(tour_1[\"Attendance\"].describe())\n",
    "\n",
    "tour_1[\"Attendance\"] = tour_1[\"Attendance\"].fillna(round(tour_1[\"Attendance\"].mean()))\n",
    "\n",
    "tour_1"
   ]
  },
  {
   "cell_type": "code",
   "execution_count": null,
   "metadata": {},
   "outputs": [],
   "source": [
    "tour_3.loc[tour_3[\"City\"] == \"Bangkok\", \"Attendance\"] = 9_033\n",
    "\n",
    "tour_3"
   ]
  },
  {
   "cell_type": "code",
   "execution_count": null,
   "metadata": {},
   "outputs": [],
   "source": [
    "tour_4.loc[tour_4[\"City\"] == \"Winchester\", \"Attendance\"] = 85_000\n",
    "\n",
    "tour_4"
   ]
  },
  {
   "cell_type": "code",
   "execution_count": null,
   "metadata": {},
   "outputs": [],
   "source": [
    "cities = pd.read_csv(\"clean/cities.csv\")\n",
    "cities = cities.loc[cities.groupby(['Country name EN', 'ASCII Name'])['Population'].idxmax()]  # hack na columbie\n",
    "cities.reset_index(drop=True, inplace=True)"
   ]
  },
  {
   "cell_type": "code",
   "execution_count": null,
   "metadata": {},
   "outputs": [],
   "source": [
    "def count_concerts(df):\n",
    "    attendance = df.groupby(['City', 'Country'])[\"Attendance\"].apply(\"max\")\n",
    "    number_of_concerts = df.groupby(['City', 'Country']).size().rename(\"Number of concerts\")\n",
    "\n",
    "    summarised_df = pd.concat([attendance, number_of_concerts], axis=1).reset_index()\n",
    "\n",
    "    return summarised_df\n",
    "\n",
    "\n",
    "def add_city_info(df):\n",
    "    return pd.merge(\n",
    "        left=df,\n",
    "        right=cities,\n",
    "        left_on=[\"Country\", \"City\"],\n",
    "        right_on=[\"Country name EN\", \"Name\"],\n",
    "        how=\"left\",\n",
    "    ).dropna(subset=[\"Population\"])[[\"Country name EN\", \"Name\", \"Number of concerts\", \"Attendance\", \"Population\", \"Latitude\", \"Longitude\"]].rename(columns={\"Country name EN\": \"Country\", \"Name\": \"City\"})\n",
    "\n",
    "\n",
    "tour = pd.concat([tour_1, tour_2, tour_3, tour_4, tour_5, tour_6])\n",
    "tour = count_concerts(tour)\n",
    "tour = add_city_info(tour)\n",
    "tour[\"Attendance\"] = tour[\"Attendance\"].astype(\"Int64\")\n",
    "tour[\"Population\"] = tour[\"Population\"].astype(\"Int64\")\n",
    "\n",
    "print(\"CHECK\")\n",
    "\n",
    "n_pop_missing = len(tour[tour[[\"Population\"]].isna().any(axis=1)])\n",
    "n_coords_missing = len(tour[tour[[\"Latitude\", \"Longitude\"]].isna().any(axis=1)])\n",
    "\n",
    "print(f\"TOUR missing pop {n_pop_missing}, missing coords {n_coords_missing}\")\n",
    "\n",
    "tour"
   ]
  },
  {
   "cell_type": "code",
   "execution_count": null,
   "metadata": {},
   "outputs": [],
   "source": [
    "n_att_missing = len(tour[tour[[\"Attendance\"]].isna().any(axis=1)])\n",
    "\n",
    "print(f\"TOUR missing att {n_att_missing}\")\n",
    "# jesli byla w 2-5 w miesce z 6, to wypelnij max attendance z tej tury\n",
    "\n",
    "# ['Alexandria', 'Bangkok', 'Birmingham', 'Buenos Aires', 'Cadott', 'Calgary', 'Cardiff', 'Charleston', 'Chelmsford', 'Cheyenne', 'Detroit Lakes', 'Duluth', 'Décines-Charpieu', 'Edinburgh', 'Gelsenkirchen', 'Greenville', 'Hamburg', 'Inglewood', 'Lafayette', 'Lisbon', 'Liverpool', 'Mexico City', 'Minot', 'Munich', 'Nanterre', 'New Brockton', 'Oshkosh', 'Rapid City', 'Rio de Janeiro', 'Stockholm', 'São Paulo', 'Twin Lakes', 'University Park', 'Vienna', 'Warsaw', 'Winchester', 'Zürich']\n",
    "# ^ to trzeba wypeic w tour_6_estimates.csv"
   ]
  },
  {
   "cell_type": "code",
   "execution_count": null,
   "metadata": {},
   "outputs": [],
   "source": [
    "tour.to_csv(\"processed/tour.csv\", index=False)"
   ]
  },
  {
   "cell_type": "markdown",
   "metadata": {},
   "source": []
  }
 ],
 "metadata": {
  "kernelspec": {
   "display_name": "venv",
   "language": "python",
   "name": "python3"
  },
  "language_info": {
   "codemirror_mode": {
    "name": "ipython",
    "version": 3
   },
   "file_extension": ".py",
   "mimetype": "text/x-python",
   "name": "python",
   "nbconvert_exporter": "python",
   "pygments_lexer": "ipython3",
   "version": "3.12.4"
  }
 },
 "nbformat": 4,
 "nbformat_minor": 2
}
