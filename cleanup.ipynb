{
 "cells": [
  {
   "cell_type": "code",
   "execution_count": null,
   "metadata": {},
   "outputs": [],
   "source": [
    "import pandas as pd\n",
    "import numpy as np"
   ]
  },
  {
   "cell_type": "markdown",
   "metadata": {},
   "source": [
    "FEARLESS TOUR"
   ]
  },
  {
   "cell_type": "code",
   "execution_count": null,
   "metadata": {},
   "outputs": [],
   "source": [
    "\n",
    "dff = pd.read_csv(\"original/tour-fearless.csv\", delimiter=\",\", thousands=\",\")\n",
    "dff[\"Attendance\"] = dff[\"Attendance\"].str.split(' / ').str[0].str.replace(\",\", \"\").replace(\"—\", None)\n",
    "dff[\"Attendance\"] = pd.to_numeric(dff[\"Attendance\"], errors=\"coerce\", downcast=\"float\").astype('Int32')\n",
    "dff = dff[[\"Date\", \"City\", \"Country\", \"Attendance\"]]\n",
    "# dff['Date'] = pd.to_datetime(dff['Date']).dt.date\n",
    "dff[\"Date\"] = pd.to_datetime(dff['Date'], format='%B %d, %Y', errors='coerce').dt.date"
   ]
  },
  {
   "cell_type": "code",
   "execution_count": null,
   "metadata": {},
   "outputs": [],
   "source": [
    "print(dff.dtypes)\n",
    "dff.to_csv(\"clean/tour_1.csv\", index=False)"
   ]
  },
  {
   "cell_type": "markdown",
   "metadata": {},
   "source": [
    "SPEAK NOW TOUR"
   ]
  },
  {
   "cell_type": "code",
   "execution_count": null,
   "metadata": {},
   "outputs": [],
   "source": [
    "def load_tour_2(filename, renames, year):\n",
    "    df = pd.read_csv(\"original/\" + filename, delimiter=\",\", thousands=\",\")[renames.keys()]\n",
    "    df = df.rename(columns=renames)\n",
    "    df.loc[:, \"Date\"] = pd.to_datetime(df.loc[:,'Date'] + f' {year}', format='%B %d %Y', errors='coerce').dt.date\n",
    "    df = df.replace(\"—\", np.nan)\n",
    "    df = df.rename(columns={'Attendance (tickets sold / available)' : \"Attendance\"})\n",
    "    df[\"Attendance\"] = df[\"Attendance\"].str.split(' / ').str[0].str.replace(\",\", \"\").replace(\"—\", None)\n",
    "    df[\"Attendance\"] = pd.to_numeric(df[\"Attendance\"], errors=\"coerce\", downcast=\"float\").astype('Int32')\n",
    "\n",
    "    return df\n",
    "\n",
    "dfs1 = load_tour_2(\n",
    "    filename=\"tour-speak I.csv\",\n",
    "    renames={\n",
    "        \"City\": \"City\",\n",
    "        \"Country\": \"Country\",\n",
    "        'Date (2011)': 'Date',\n",
    "        'Attendance (tickets sold / available)' : \"Attendance\",\n",
    "    },\n",
    "    year=2011,\n",
    ")\n",
    "\n",
    "dfs2 = load_tour_2(\n",
    "    filename=\"tour-speak II.csv\",\n",
    "    renames={\n",
    "        \"City\": \"City\",\n",
    "        \"Country\": \"Country\",\n",
    "        'Date (2011)': 'Date',\n",
    "        'Attendance (tickets sold / available)' : \"Attendance\",\n",
    "    },\n",
    "    year=2011,\n",
    ")\n",
    "\n",
    "dfs3 = load_tour_2(\n",
    "    filename=\"tour-speak III.csv\",\n",
    "    renames={\n",
    "        \"City\": \"City\",\n",
    "        \"Country\": \"Country\",\n",
    "        'Date (2011)': 'Date',\n",
    "        'Attendance (tickets sold / available)' : \"Attendance\",\n",
    "    },\n",
    "    year=2011,\n",
    ")\n",
    "\n",
    "dfs4 = load_tour_2(\n",
    "    filename=\"tour-speak IV.csv\",\n",
    "    renames={\n",
    "        \"City\": \"City\",\n",
    "        \"Country\": \"Country\",\n",
    "        'Date (2012)': 'Date',\n",
    "        'Attendance (tickets sold / available)' : \"Attendance\",\n",
    "    },\n",
    "    year=2012,\n",
    ")\n",
    "\n",
    "dfs5 = pd.read_csv(\"original/tour-speak V.csv\", delimiter=\",\")\n",
    "dfs5[\"Date\"] = pd.to_datetime(dfs5['Date'], errors='coerce').dt.date\n",
    "dfs5 = dfs5.drop(columns=\"Reason\")\n",
    "dfs5 = dfs5.drop(columns=\"Venue\")\n",
    "\n",
    "dfs = pd.concat([dfs1, dfs2, dfs3, dfs4, dfs5]).reset_index(drop=True)\n",
    "\n",
    "dfs.to_csv(\"clean/tour_2.csv\", index=False)"
   ]
  },
  {
   "cell_type": "markdown",
   "metadata": {},
   "source": [
    "RED TOUR"
   ]
  },
  {
   "cell_type": "code",
   "execution_count": null,
   "metadata": {},
   "outputs": [],
   "source": [
    "\n",
    "def load_tour_3(filename, renames, year):\n",
    "    df = pd.read_csv(\"original/\" + filename, delimiter=\",\")[renames.keys()]\n",
    "    df = df.rename(columns=renames)\n",
    "    df.loc[:, \"Date\"] = pd.to_datetime(df.loc[:,'Date'] + f' {year}', format='%B %d %Y', errors='coerce').dt.date\n",
    "    df = df.replace(\"—\", np.nan)\n",
    "    df = df.rename(columns={'Attendance (tickets sold / available)' : \"Attendance\"})\n",
    "    df[\"Attendance\"] = df[\"Attendance\"].str.split(' / ').str[0].str.replace(\",\", \"\").replace(\"—\", None)\n",
    "    df[\"Attendance\"] = pd.to_numeric(df[\"Attendance\"], errors=\"coerce\", downcast=\"float\").astype('Int32')\n",
    "\n",
    "    return df\n",
    "\n",
    "dfr1 = load_tour_3(\n",
    "    filename=\"tour-red I.csv\",\n",
    "    renames={\n",
    "        \"City\": \"City\",\n",
    "        \"Country\": \"Country\",\n",
    "        'Date (2013)': 'Date',\n",
    "        'Attendance (tickets sold / available)' : \"Attendance\",\n",
    "    },\n",
    "    year=2013,\n",
    ")\n",
    "\n",
    "dfr2 = load_tour_3(\n",
    "    filename=\"tour-red II.csv\",\n",
    "    renames={\n",
    "        \"City\": \"City\",\n",
    "        \"Country\": \"Country\",\n",
    "        'Date (2013)': 'Date',\n",
    "        'Attendance (tickets sold / available)' : \"Attendance\",\n",
    "    },\n",
    "    year=2013,\n",
    ")\n",
    "\n",
    "dfr3 = load_tour_3(\n",
    "    filename=\"tour-red III.csv\",\n",
    "    renames={\n",
    "        \"City\": \"City\",\n",
    "        \"Country\": \"Country\",\n",
    "        \"Date (2014)\": \"Date\",\n",
    "        'Attendance (tickets sold / available)' : \"Attendance\",\n",
    "    },\n",
    "    year=2014,\n",
    ")\n",
    "\n",
    "dfr4 = load_tour_3(\n",
    "    filename=\"tour-red IV.csv\",\n",
    "    renames={\n",
    "        \"City\": \"City\",\n",
    "        \"Country\": \"Country\",\n",
    "        \"Date (2014)\": \"Date\",\n",
    "        'Attendance (tickets sold / available)' : \"Attendance\",\n",
    "    },\n",
    "    year=2014\n",
    ")\n",
    "\n",
    "dfr5 = pd.read_csv(\"original/tour-red V.csv\", delimiter=\",\")\n",
    "dfr5 = dfr5.rename(columns={'Date (2014)': 'Date'})\n",
    "dfr5[\"Date\"] = pd.to_datetime(dfr5['Date'] + ' 2014', format='%B %d %Y', errors='coerce').dt.date\n",
    "dfr5 = dfr5.drop(columns=\"Reason\")\n",
    "dfr5 = dfr5.drop(columns=\"Venue\")\n",
    "\n",
    "dfr = pd.concat([dfr1, dfr2, dfr3, dfr4, dfr5]).reset_index(drop=True)\n",
    "\n",
    "dfr.to_csv('clean/tour_3.csv', index=False)\n",
    "\n",
    "print(dfr)"
   ]
  },
  {
   "cell_type": "markdown",
   "metadata": {},
   "source": [
    "1989 TOUR"
   ]
  },
  {
   "cell_type": "code",
   "execution_count": null,
   "metadata": {},
   "outputs": [],
   "source": [
    "df89 = pd.read_csv(\"original/tour-1989.csv\", delimiter=\",\")\n",
    "df89[\"Attendance\"] = df89[\"Attendance\"].str.split(' / ').str[0]\n",
    "df89 = df89[[\"Date (2015)\", \"City\", \"Country\", \"Attendance\"]]\n",
    "df89 = df89.rename(columns={'Date (2015)': 'Date'})\n",
    "df89[\"Date\"] = pd.to_datetime(df89['Date'] + ' 2015', format='%B %d %Y', errors='coerce')\n",
    "df89[\"Attendance\"] = df89[\"Attendance\"].str.split(' / ').str[0].str.replace(\",\", \"\").replace(\"—\", None)\n",
    "df89[\"Attendance\"] = pd.to_numeric(df89[\"Attendance\"], errors=\"coerce\", downcast=\"float\").astype('Int32')\n",
    "\n",
    "df89.to_csv(\"clean/tour_4.csv\", index=False)"
   ]
  },
  {
   "cell_type": "code",
   "execution_count": null,
   "metadata": {},
   "outputs": [],
   "source": [
    "dfr.isnull().sum()  # są dwa nulle w attendance, trzeba je ręcznie sprawdzić i wpisać w 1989 csv"
   ]
  },
  {
   "cell_type": "markdown",
   "metadata": {},
   "source": [
    "REPUTATION TOUR"
   ]
  },
  {
   "cell_type": "code",
   "execution_count": null,
   "metadata": {},
   "outputs": [],
   "source": [
    "dfr = pd.read_csv(\"original/tour-rep.csv\", delimiter=\",\")\n",
    "dfr[\"Attendance\"] = dfr[\"Attendance\"].str.split(' / ').str[0]\n",
    "dfr = dfr[[\"Date (2018)\", \"City\", \"Country\", \"Attendance\"]]\n",
    "dfr = dfr.rename(columns={'Date (2018)': 'Date'})\n",
    "dfr[\"Date\"] = pd.to_datetime(dfr['Date'] + ' 2018', format='%B %d %Y', errors='coerce')\n",
    "dfr[\"Attendance\"] = dfr[\"Attendance\"].str.split(' / ').str[0].str.replace(\",\", \"\").replace(\"—\", None)\n",
    "dfr[\"Attendance\"] = pd.to_numeric(dfr[\"Attendance\"], errors=\"coerce\", downcast=\"float\").astype('Int32')\n",
    "\n",
    "dfr.to_csv(\"clean/tour_5.csv\", index=False)"
   ]
  },
  {
   "cell_type": "markdown",
   "metadata": {},
   "source": [
    "ERAS TOUR"
   ]
  },
  {
   "cell_type": "code",
   "execution_count": null,
   "metadata": {},
   "outputs": [],
   "source": [
    "def load_tour_6(filename, renames, year):\n",
    "    df = pd.read_csv(\"original/\" + filename, delimiter=\",\")[renames.keys()]\n",
    "    df = df.rename(columns=renames)\n",
    "    df.loc[:, \"Date\"] = pd.to_datetime(df.loc[:,'Date'] + f' {year}', format='%B %d %Y', errors='coerce').dt.date\n",
    "    df = df.replace(\"—\", np.nan)\n",
    "    df = df.rename(columns={'Attendance (tickets sold / available)' : \"Attendance\"})\n",
    "\n",
    "    return df\n",
    "\n",
    "\n",
    "dfe1 = load_tour_6(\n",
    "    filename=\"tour-eras I.csv\",\n",
    "    renames={\n",
    "        \"City\": \"City\",\n",
    "        \"Country\": \"Country\",\n",
    "        'Date (2023)': 'Date',\n",
    "        'Attendance': \"Attendance\",\n",
    "    },\n",
    "    year=2023,\n",
    ")\n",
    "\n",
    "dfe2 = load_tour_6(\n",
    "    filename=\"tour-eras II.csv\",\n",
    "    renames={\n",
    "        \"City\": \"City\",\n",
    "        \"Country\": \"Country\",\n",
    "        'Date (2024)': 'Date',\n",
    "        'Attendance': \"Attendance\",\n",
    "    },\n",
    "    year=2024,\n",
    ")\n",
    "\n",
    "dfe = pd.concat([dfe1, dfe2]).reset_index(drop=True)\n",
    "\n",
    "# unique_values_count1 = dfe['City'].nunique()\n",
    "\n",
    "# unique_values_count1\n",
    "\n",
    "dfe.to_csv('clean/tour_6.csv', index=False)\n"
   ]
  },
  {
   "cell_type": "code",
   "execution_count": null,
   "metadata": {},
   "outputs": [],
   "source": [
    "dfe.isnull().sum()  # są dwa nulle w attendance, trzeba je ręcznie sprawdzić i wpisać w 1989 csv"
   ]
  },
  {
   "cell_type": "code",
   "execution_count": null,
   "metadata": {},
   "outputs": [],
   "source": [
    "cities = pd.read_csv(\"original/geonames-all-cities-with-a-population-1000.csv\", delimiter=\";\")\n",
    "cities = cities[[\"Geoname ID\", \"Name\", \"ASCII Name\", \"Country name EN\", \"Population\", \"Coordinates\"]]\n",
    "cities[\"Coordinates\"] = cities[\"Coordinates\"].str.split(\",\")\n",
    "cities[\"Latitude\"] = cities[\"Coordinates\"].str[0].astype(\"float64\")\n",
    "cities[\"Longitude\"] = cities[\"Coordinates\"].str[1].astype(\"float64\")\n",
    "cities[\"Geoname ID\"] = cities[\"Geoname ID\"].astype(\"int32\")\n",
    "cities.drop(\"Coordinates\", axis=1, inplace=True)\n",
    "cities.dropna(inplace=True)\n",
    "cities.to_csv(\"clean/cities.csv\", index=False)"
   ]
  },
  {
   "cell_type": "code",
   "execution_count": null,
   "metadata": {},
   "outputs": [],
   "source": [
    "files = [\n",
    "    \"clean/tour_1.csv\",\n",
    "    \"clean/tour_2.csv\",\n",
    "    \"clean/tour_3.csv\",\n",
    "    \"clean/tour_4.csv\",\n",
    "    \"clean/tour_5.csv\",\n",
    "    \"clean/tour_6.csv\",\n",
    "]\n",
    "\n",
    "def clean(df):\n",
    "    uk = [\"Wales\", \"England\", \"Scotland\", \"Northern Ireland\"]\n",
    "    df.loc[df[\"Country\"].isin(uk),\"Country\"] = \"United Kingdom\"\n",
    "    df.loc[df[\"Country\"] == \"South Korea\", \"Country\"] = \"Korea, Republic of\"\n",
    "    df.loc[(df[\"City\"] == \"Hong Kong\") & (df[\"Country\"] == \"China\"), \"Country\"] = \"Hong Kong, China\"\n",
    "    df.loc[df[\"City\"] == \"Washington, D.C.\", \"City\"] = \"Washington\"\n",
    "    df.loc[df[\"City\"] == \"Cologne\", \"City\"] = \"Köln\"\n",
    "    df.loc[df[\"City\"] == \"Montreal\", \"City\"] = \"Montréal\"\n",
    "\n",
    "    return df\n",
    "\n",
    "\n",
    "for f in files:\n",
    "    df = pd.read_csv(f)\n",
    "    clean(df).to_csv(f)"
   ]
  }
 ],
 "metadata": {
  "kernelspec": {
   "display_name": "venv",
   "language": "python",
   "name": "python3"
  },
  "language_info": {
   "codemirror_mode": {
    "name": "ipython",
    "version": 3
   },
   "file_extension": ".py",
   "mimetype": "text/x-python",
   "name": "python",
   "nbconvert_exporter": "python",
   "pygments_lexer": "ipython3",
   "version": "3.12.4"
  }
 },
 "nbformat": 4,
 "nbformat_minor": 2
}
